{
 "cells": [
  {
   "cell_type": "markdown",
   "metadata": {
    "id": "EIuyp8N8r-C7",
    "pycharm": {
     "name": "#%% md\n"
    }
   },
   "source": [
    "# Линейная алгебра. Лабораторная работа 1, осень 2021\n"
   ]
  },
  {
   "cell_type": "markdown",
   "metadata": {
    "id": "zjM6eb8Pr-DD",
    "pycharm": {
     "name": "#%% md\n"
    }
   },
   "source": [
    "В этой лабораторной работе вы познакомитесь со средой Jupyter Notebook и библиотеками numpy и scipy."
   ]
  },
  {
   "cell_type": "markdown",
   "metadata": {
    "id": "YaJV1GVyr-DE",
    "pycharm": {
     "name": "#%% md\n"
    }
   },
   "source": [
    "## Часть 1. Библиотеки"
   ]
  },
  {
   "cell_type": "markdown",
   "metadata": {
    "id": "oM0ZiubOr-DF",
    "pycharm": {
     "name": "#%% md\n"
    }
   },
   "source": [
    "В этой лабораторной работе вам понадобятся три библиотеки:\n",
    "\n",
    "- `numpy` - основная библиотека для работы с матрицами;\n",
    "- `scipy`, а точнее модуль `scipy.linalg`, содержащий множество функций линейной алгебры;\n",
    "- `matplotlib` - графическая библиотека\n",
    "\n",
    "Подключить их можно следующим образом:"
   ]
  },
  {
   "cell_type": "code",
   "execution_count": 1,
   "metadata": {
    "id": "5cm7iy1ir-DH",
    "pycharm": {
     "name": "#%%\n"
    }
   },
   "outputs": [],
   "source": [
    "# Запустите этот код\n",
    "import numpy as np\n",
    "\n",
    "import scipy.linalg as sla\n",
    "\n",
    "import matplotlib.pyplot as plt\n",
    "%matplotlib inline"
   ]
  },
  {
   "cell_type": "markdown",
   "metadata": {
    "id": "V8NVWAhvr-DL",
    "pycharm": {
     "name": "#%% md\n"
    }
   },
   "source": [
    "Теперь вы можете позвать, скажем, функцию `scipy.linalg.det()` с помощью кода `sla.det()`, а функцию `numpy.exp()` - с помощью кода `np.exp()`."
   ]
  },
  {
   "cell_type": "markdown",
   "metadata": {
    "id": "Pa6Hi2DFr-DM",
    "pycharm": {
     "name": "#%% md\n"
    }
   },
   "source": [
    "**Основные объекты и операции линейной алгебры в NumPy и SciPy:**"
   ]
  },
  {
   "cell_type": "markdown",
   "metadata": {
    "id": "L4QhiVOOr-DN",
    "pycharm": {
     "name": "#%% md\n"
    }
   },
   "source": [
    "Основной объект, с которым вам придётся работать и в этой, и в следующих лабораторных - это, безусловно, матрицы. В библиотеке `numpy` они представлены классом `numpy.ndarray`. Матрицу можно создать из двумерного (а на самом деле и не только двумерного) массива следующим образом:"
   ]
  },
  {
   "cell_type": "code",
   "execution_count": 2,
   "metadata": {
    "id": "TNI8AiJyr-DO",
    "pycharm": {
     "name": "#%%\n"
    }
   },
   "outputs": [
    {
     "name": "stdout",
     "output_type": "stream",
     "text": [
      "[[1 2 3]\n",
      " [4 5 6]]\n",
      "(2, 3)\n"
     ]
    }
   ],
   "source": [
    "# Запустите этот код\n",
    "A = np.array([[1, 2, 3], [4, 5, 6]])\n",
    "\n",
    "print(A)\n",
    "print(A.shape) # пара (число строк, число столбцов)"
   ]
  },
  {
   "cell_type": "markdown",
   "metadata": {
    "id": "tzD9hz20r-DQ",
    "pycharm": {
     "name": "#%% md\n"
    }
   },
   "source": [
    "Обратите внимание, что матрица заполняется *по строкам*.\n",
    "\n",
    "Есть и много других конструкторов матриц. Например, единичная матрица размера $n\\times n$ создаётся с помощью функции `numpy.eye(n)`. Со всем многообразием конструкторов можно ознакомиться [на этой странице](https://docs.scipy.org/doc/numpy-1.10.1/reference/routines.array-creation.html)."
   ]
  },
  {
   "cell_type": "markdown",
   "metadata": {
    "id": "dXBis6otr-DR",
    "pycharm": {
     "name": "#%% md\n"
    }
   },
   "source": [
    "Зачастую бывает нужно получить доступ к подматрицам данной матрицы, и numpy предоставляет множество удобных средств, как это сделать (вообще данная процедура называется slicing):\n",
    "- элемент с номером `(i,j)`: `A[i,j]`\n",
    "- i-я строка матрицы: `A[i,:]`\n",
    "- j-й столбец матрицы: `A[:,j]`\n",
    "\n",
    "**Внимание!** Оба варианта, и `A[i,:]`, и `A[:,j]` дают не строку или столбец, а одномерный вектор. Если вы хотите получить вектор-строку или вектор-столбец соответственно, используйте вот такой синтаксис: `A[i:i+1,:]`, и `A[:,j:j+1]`\n",
    "- строки с нулевой по i-ю: `A[:i+1,:]`\n",
    "- столбцы с j-го по последний: `A[:,j:]`\n",
    "- строки с i-й по k-ю: `A[i:k,:]`\n",
    "\n",
    "В некоторых случаях нужно получить доступ к (прямоугольной) подматрице, элементы которой находятся на пересечении строк из списка `rows` и столбцов из списка `columns`. В этом случае `A[rows, columns]` даст не то, что вы ожидаете (можете попробовать это сделать сами и увидеть, что получится; только возьмите `rows` и `columns` одного размера). Справиться с этой задачей позволяет код `A[np.ix_(rows, columns)]`"
   ]
  },
  {
   "cell_type": "markdown",
   "metadata": {
    "id": "UBq_ml2yr-DS",
    "pycharm": {
     "name": "#%% md\n"
    }
   },
   "source": [
    "*Умножение матриц* производится с помощью функции `np.dot()` либо оператора `@`. Есть три варианта написания: `A.dot(B)` и `np.dot(A, B)`, `A @ B`.\n",
    "\n",
    "Обычные знаки арифметических действий (`+`, `-`, `*`) зарезервированы для поэлементных операций. Например, `A * B` - это матрица, элементами которой являются произведения $A_{ij}B_{ij}$. Помимо этих есть и множество других поэлементных операций. Например, `numpy.exp(A)` - это матрица, элементами которой являются экспоненты элементов матрицы `A`."
   ]
  },
  {
   "cell_type": "markdown",
   "metadata": {
    "id": "fZk9Fcmar-DT",
    "pycharm": {
     "name": "#%% md\n"
    }
   },
   "source": [
    "Чтобы получить матрицу, *транспонированную* к матрице `A`, напишите просто `A.T`. "
   ]
  },
  {
   "cell_type": "markdown",
   "metadata": {
    "id": "BklAT3MYr-DT",
    "pycharm": {
     "name": "#%% md\n"
    }
   },
   "source": [
    "В некоторых случаях бывает нужно создавать *случайные матрицы*: например, при проведении экспериментов или для инициализации итеративных методов. Средства для этого предоставляет пакет [numpy.random](https://docs.scipy.org/doc/numpy/reference/routines.random.html). Так, `np.random.rand(m,n)` - это матрица $m\\times n$, элементы которой независимо выбраны из равномерного распределения на интервале `[0;1)` "
   ]
  },
  {
   "cell_type": "markdown",
   "metadata": {
    "id": "qEnErjp6r-DU",
    "pycharm": {
     "name": "#%% md\n"
    }
   },
   "source": [
    "Для *решения систем линейных уравнений* в пакете `scipy.linalg` есть множество методов, рассмотрение которых выходит за пределы курса линейной алгебры. Мы вам пока предлагаем пользоваться функцией `scipy.linalg.solve`, основанной на методе Гаусса. Отметим, что `scipy.linalg.solve(A, B)` выдаёт решение уравнения $AX = B$ (или ошибку), где $B$ может быть как вектором, так и матрицей.\n",
    "\n",
    "Найти обратную матрицу для матрицы $A$ можно с помощью функции `sla.inv(A)`."
   ]
  },
  {
   "cell_type": "markdown",
   "metadata": {
    "id": "gKccN2XRr-DU",
    "pycharm": {
     "name": "#%% md\n"
    }
   },
   "source": [
    "**Копирование сложных объектов в Python**"
   ]
  },
  {
   "cell_type": "markdown",
   "metadata": {
    "id": "hcYma3Ahr-DV",
    "pycharm": {
     "name": "#%% md\n"
    }
   },
   "source": [
    "Когда вы делаете присваивание каких-то сложных объектов, как правило оно происходит по ссылке. Например, код\n",
    "```\n",
    "B = A\n",
    "B[0,0] = 10\n",
    "```\n",
    "приведёт к изменению матрицы `A`.\n",
    "\n",
    "Не попадайтесь в эту ловушку! Если вы хотите работать с копией как с независимой матрицей, используйте метод `copy()`:\n",
    "```\n",
    "B = A.copy()\n",
    "```"
   ]
  },
  {
   "cell_type": "markdown",
   "metadata": {
    "id": "skr3SVKir-DW",
    "pycharm": {
     "name": "#%% md\n"
    }
   },
   "source": [
    "**Где искать помощь**"
   ]
  },
  {
   "cell_type": "markdown",
   "metadata": {
    "id": "ZwzIfvS_r-DW",
    "pycharm": {
     "name": "#%% md\n"
    }
   },
   "source": [
    "Библиотеки `numpy` и `scipy` снабжены прекрасной документацией. Если у вас возникают вопросы о том, как работает та или иная функция (или даже как называется функция, выполняющая то, что вам нужно), вы почти всегда можете найти там ответы.\n",
    "\n",
    "[Ссылка на документацию пакета scipy.linalg](https://docs.scipy.org/doc/scipy-0.18.1/reference/linalg.html)\n",
    "\n",
    "Если у вас возникает какая-то ошибка и вы не можете понять, что вы делаете не так, то\n",
    "\n",
    "1.   В первую очередь попробуйте просто загуглить текст ошибки, наверняка в интернете кто-то уже сталкивался с такой ситуацией;\n",
    "2.   Поспрашивайте своих одногруппников, не было ли у них такой ошибки, и если была -- как они справлялись;\n",
    "3.   Попросите помощи у вашего учебного ассистента.\n",
    "\n",
    "Важно искать помощь именно в таком порядке! Если ни один из шагов выше не помог или вы столкнулись с ситуацией, в которой вам заведомо не поможет ни один из пунктов выше (например, в задании вас просят доказать заведомо ложное утверждение), тогда можете написать сюда: st-fedotov@yandex-team.ru (Станислав Федотов, выступал перед выдачей лабораторной), или сюда: [@johanDDC](https://t.me/johanDDC) (Ваня Пешехонов, ассистент курса).\n",
    "\n"
   ]
  },
  {
   "cell_type": "markdown",
   "metadata": {
    "id": "PggwvCWer-DW",
    "pycharm": {
     "name": "#%% md\n"
    }
   },
   "source": [
    "**И всё-таки задание**"
   ]
  },
  {
   "cell_type": "markdown",
   "metadata": {
    "id": "jA4ZWChmr-DX",
    "pycharm": {
     "name": "#%% md\n"
    }
   },
   "source": [
    "**Задание 1.1 [0.2 за каждый пункт]** В качестве первого задания мы попросим вас отыскать соответствующие функции в библиотеке и сделать следующее:\n",
    "\n",
    "- создайте нулевую матрицу $Z$ размера $3\\times4$;"
   ]
  },
  {
   "cell_type": "code",
   "execution_count": 3,
   "metadata": {
    "id": "gmrs4RQCr-Db",
    "pycharm": {
     "name": "#%%\n"
    }
   },
   "outputs": [
    {
     "name": "stdout",
     "output_type": "stream",
     "text": [
      "[[0. 0. 0. 0.]\n",
      " [0. 0. 0. 0.]\n",
      " [0. 0. 0. 0.]]\n"
     ]
    }
   ],
   "source": [
    "import numpy as np\n",
    "import scipy.linalg as sla\n",
    "import matplotlib.pyplot as plt\n",
    "Z=np.zeros((3,4))\n",
    "print(Z)"
   ]
  },
  {
   "cell_type": "markdown",
   "metadata": {
    "pycharm": {
     "name": "#%% md\n"
    }
   },
   "source": [
    "- создайте диагональную матрицу $5\\times5$ с диагональными элементами 1, 2, 3, 4 и 5;"
   ]
  },
  {
   "cell_type": "code",
   "execution_count": 411,
   "metadata": {
    "pycharm": {
     "name": "#%%\n"
    }
   },
   "outputs": [
    {
     "name": "stdout",
     "output_type": "stream",
     "text": [
      "[[1 0 0 0 0]\n",
      " [0 2 0 0 0]\n",
      " [0 0 3 0 0]\n",
      " [0 0 0 4 0]\n",
      " [0 0 0 0 5]]\n"
     ]
    }
   ],
   "source": [
    "A=np.diag((1,2,3,4,5))\n",
    "print(A)"
   ]
  },
  {
   "cell_type": "markdown",
   "metadata": {
    "pycharm": {
     "name": "#%% md\n"
    }
   },
   "source": [
    "- найдите её след (не силою мысли, а с помощью библиотечных функций, конечно);"
   ]
  },
  {
   "cell_type": "code",
   "execution_count": 412,
   "metadata": {
    "pycharm": {
     "name": "#%%\n"
    }
   },
   "outputs": [
    {
     "name": "stdout",
     "output_type": "stream",
     "text": [
      "15\n"
     ]
    }
   ],
   "source": [
    "trace=np.trace(A)\n",
    "print(trace)"
   ]
  },
  {
   "cell_type": "markdown",
   "metadata": {
    "pycharm": {
     "name": "#%% md\n"
    }
   },
   "source": [
    "- найдите обратную к ней матрицу;"
   ]
  },
  {
   "cell_type": "code",
   "execution_count": 413,
   "metadata": {
    "pycharm": {
     "name": "#%%\n"
    }
   },
   "outputs": [
    {
     "name": "stdout",
     "output_type": "stream",
     "text": [
      "[[ 1.          0.          0.          0.         -0.        ]\n",
      " [ 0.          0.5         0.          0.         -0.        ]\n",
      " [ 0.          0.          0.33333333  0.         -0.        ]\n",
      " [ 0.          0.          0.          0.25       -0.        ]\n",
      " [ 0.          0.          0.          0.          0.2       ]]\n"
     ]
    }
   ],
   "source": [
    "A_reverse=sla.inv(A)\n",
    "print(A_reverse)"
   ]
  },
  {
   "cell_type": "markdown",
   "metadata": {
    "pycharm": {
     "name": "#%% md\n"
    }
   },
   "source": [
    "- сгенерируйте случайную матрицу $X$ размера $4\\times5$;"
   ]
  },
  {
   "cell_type": "code",
   "execution_count": 414,
   "metadata": {
    "pycharm": {
     "name": "#%%\n"
    }
   },
   "outputs": [
    {
     "name": "stdout",
     "output_type": "stream",
     "text": [
      "[[0.74982317 0.50323402 0.59325541 0.0316601  0.06693027]\n",
      " [0.77235526 0.02451383 0.70102422 0.27618618 0.74174733]\n",
      " [0.31587623 0.94922822 0.78924499 0.16614629 0.56122915]\n",
      " [0.21839334 0.72516643 0.19734815 0.63830809 0.64664955]]\n"
     ]
    }
   ],
   "source": [
    "X=np.random.rand(4,5)\n",
    "print(X)"
   ]
  },
  {
   "cell_type": "markdown",
   "metadata": {
    "pycharm": {
     "name": "#%% md\n"
    }
   },
   "source": [
    "- найдите определитель подматрицы матрицы $X$, расположенной на пересечении 2-й и 3-й строк и 1-го и 2-го столбцов; считаем, что строки и столбцы нумеруются с единицы (используйте slicing!). Такой определитель называется **минором** матрицы $X$;"
   ]
  },
  {
   "cell_type": "code",
   "execution_count": 415,
   "metadata": {
    "pycharm": {
     "name": "#%%\n"
    }
   },
   "outputs": [
    {
     "name": "stdout",
     "output_type": "stream",
     "text": [
      "0.7253980712888235\n"
     ]
    }
   ],
   "source": [
    "minor_det=sla.det(X[1:3,:2])\n",
    "print(minor_det)"
   ]
  },
  {
   "cell_type": "markdown",
   "metadata": {
    "pycharm": {
     "name": "#%% md\n"
    }
   },
   "source": [
    "- найдите произведение $X^TX$."
   ]
  },
  {
   "cell_type": "code",
   "execution_count": 416,
   "metadata": {
    "pycharm": {
     "name": "#%%\n"
    }
   },
   "outputs": [
    {
     "name": "stdout",
     "output_type": "stream",
     "text": [
      "[[1.30624087 0.85448006 1.27867966 0.42893722 0.94158122]\n",
      " [0.85448006 1.68074596 1.20801496 0.64329316 1.05352774]\n",
      " [1.27867966 1.20801496 1.5052409  0.46949477 1.13025198]\n",
      " [0.42893722 0.64329316 0.46949477 0.51232298 0.71298716]\n",
      " [0.94158122 1.05352774 1.13025198 0.71298716 1.28780256]]\n"
     ]
    }
   ],
   "source": [
    "mul_X=X.T @ X\n",
    "print(mul_X)"
   ]
  },
  {
   "cell_type": "markdown",
   "metadata": {
    "id": "Dq9CP3Tvr-Dc",
    "pycharm": {
     "name": "#%% md\n"
    }
   },
   "source": [
    "## Часть 2. Время\n",
    "\n",
    "Питон мотивирует пользоваться библиотечными функциями, когда они доступны, а не писать собственные. Библиотечные функции основаны на современных алгоритмах, обычно пишутся на более эффективных языках, таких как C++ или Fortran, а кроме того, оптимизированы для работы на многопроцессорных устройствах, так что обогнать эти решения просто так вы не сможете.\n",
    "\n",
    "**Задание 2.1 [0.75 баллов]**\n",
    "Мы предлагаем вам убедиться в этом самим. Напишите функцию `my_det`, которая вычисляла бы определитель матрицы с помощью элементарных преобразований над строками. Функция должна выкидывать `ValueError` в случаях, если матрица не является квадратной."
   ]
  },
  {
   "cell_type": "code",
   "execution_count": 33,
   "metadata": {
    "id": "g943MUT2r-Dd",
    "pycharm": {
     "name": "#%%\n"
    }
   },
   "outputs": [],
   "source": [
    "# Приведём матрицу к верхнетругольному виду, а потом найдём произведение элементов на главной диагонали\n",
    "from copy import deepcopy\n",
    "def my_det(X):\n",
    "    n = len(X)\n",
    "    [a, b] = X.shape           #Проверка на квадратность\n",
    "    if a != b:\n",
    "        raise ValueError\n",
    "    sign = 1\n",
    "    for line in range(n):\n",
    "        d_el = X[line, line]\n",
    "        if d_el == 0 and line != n - 1:\n",
    "            ind = 1\n",
    "            while line + ind != n and X[line + ind, line] == 0:\n",
    "                ind += 1\n",
    "            if ind + line == n:\n",
    "                return 0\n",
    "            else:\n",
    "                copy_line = deepcopy(X[line])                  #При смене строк местами изменяем знак определителя\n",
    "                X[line] = X[line + ind]\n",
    "                X[line + ind] = copy_line\n",
    "                d_el = X[line, line]\n",
    "                sign *= -1        \n",
    "        for i in range(line+1, n):\n",
    "            for j in range(n):\n",
    "                X[i,j] -= X[i,line] * X[line,j] / d_el        #Вычитаем из каждого элемента столбца диагональный элемент\n",
    "    return X.diagonal().prod() * sign                         #Определитель будет равен произведению элементов на главной диагонали, умноженной на знак "
   ]
  },
  {
   "cell_type": "markdown",
   "metadata": {
    "id": "yH3RBFebr-Dd",
    "pycharm": {
     "name": "#%% md\n"
    }
   },
   "source": [
    "Простая проверка:"
   ]
  },
  {
   "cell_type": "code",
   "execution_count": 35,
   "metadata": {
    "id": "zZkvjyIMr-De",
    "pycharm": {
     "name": "#%%\n"
    }
   },
   "outputs": [
    {
     "name": "stdout",
     "output_type": "stream",
     "text": [
      "library function: -1.0\n",
      "my function: -1\n"
     ]
    }
   ],
   "source": [
    "import numpy as np\n",
    "R = np.array([[0,0,1], [0,1,0], [1,0,0]])\n",
    "print(f'library function: {np.linalg.det(R)}\\nmy function: {my_det(R)}')"
   ]
  },
  {
   "cell_type": "markdown",
   "metadata": {
    "id": "1s1r8y0lr-Df",
    "pycharm": {
     "name": "#%% md\n"
    }
   },
   "source": [
    "На случай, если нам просто повезло с этой матрицей, имеет смысл написать чуть более хитрые тесты. Мы сгенерируем несколько случайных матриц $8\\times8$ с помощью функции `numpy.random.rand` и сравним ответ, выдаваемый нашей функцией, с настоящим определителем (результатом работы библиотечной функции `scipy.linalg.det`):"
   ]
  },
  {
   "cell_type": "code",
   "execution_count": 36,
   "metadata": {
    "id": "SYbzit9Sr-Df",
    "pycharm": {
     "name": "#%%\n"
    }
   },
   "outputs": [],
   "source": [
    "for _ in range(10):\n",
    "    Xy = np.random.rand(8, 8)\n",
    "    if np.abs(my_det(Xy) - sla.det(Xy)) > 1e-6:\n",
    "        print('FAILED')"
   ]
  },
  {
   "cell_type": "markdown",
   "metadata": {
    "id": "4SYA688Er-Dg",
    "pycharm": {
     "name": "#%% md\n"
    }
   },
   "source": [
    "Если вы ни разу не получили `FAILED`, то ваша функция работает правильно."
   ]
  },
  {
   "cell_type": "markdown",
   "metadata": {
    "id": "Lw3SUmFcr-Dg",
    "pycharm": {
     "name": "#%% md\n"
    }
   },
   "source": [
    "Теперь давайте сравним скорость работы вашей функции и библиотечной функции `scipy.linalg.det`. В Питоне есть несколько способов измерения времени; мы воспользуемся декоратором `%timeit`. Будучи написан перед функцией, он запускает её некоторое количество раз, выбирает три случайных запуска и возвращает длительность самого быстрого из них. Модификатор `-o` между декоратором и функцией позволяет сохранять результаты работы декоратора в переменную.\n",
    "\n",
    "Приготовьтесь, что следующий блок может работать сравнительно долго."
   ]
  },
  {
   "cell_type": "code",
   "execution_count": 9,
   "metadata": {
    "id": "J8MHVMDTr-Dh",
    "pycharm": {
     "name": "#%%\n"
    }
   },
   "outputs": [
    {
     "name": "stdout",
     "output_type": "stream",
     "text": [
      "27.6 µs ± 4.69 µs per loop (mean ± std. dev. of 7 runs, 10000 loops each)\n",
      "942 µs ± 9.8 µs per loop (mean ± std. dev. of 7 runs, 1000 loops each)\n",
      "234 µs ± 7.89 µs per loop (mean ± std. dev. of 7 runs, 1000 loops each)\n",
      "947 ms ± 12 ms per loop (mean ± std. dev. of 7 runs, 1 loop each)\n",
      "The slowest run took 5.65 times longer than the fastest. This could mean that an intermediate result is being cached.\n",
      "35.4 ms ± 28.9 ms per loop (mean ± std. dev. of 7 runs, 1 loop each)\n"
     ]
    },
    {
     "name": "stderr",
     "output_type": "stream",
     "text": [
      "<ipython-input-6-6bc8ecc00d52>:25: RuntimeWarning: overflow encountered in double_scalars\n",
      "  X[i,j] -= X[i,row] * X[row,j] / d_el         #Вычитаем из каждого элемента столбца диагональный элемент\n",
      "<ipython-input-6-6bc8ecc00d52>:25: RuntimeWarning: invalid value encountered in double_scalars\n",
      "  X[i,j] -= X[i,row] * X[row,j] / d_el         #Вычитаем из каждого элемента столбца диагональный элемент\n",
      "C:\\Users\\Almas\\anaconda3\\lib\\site-packages\\numpy\\core\\_methods.py:51: RuntimeWarning: overflow encountered in reduce\n",
      "  return umr_prod(a, axis, dtype, out, keepdims, initial, where)\n"
     ]
    },
    {
     "name": "stdout",
     "output_type": "stream",
     "text": [
      "15min 32s ± 59.1 s per loop (mean ± std. dev. of 7 runs, 1 loop each)\n"
     ]
    },
    {
     "data": {
      "text/plain": [
       "<matplotlib.legend.Legend at 0x13b11a281f0>"
      ]
     },
     "execution_count": 9,
     "metadata": {},
     "output_type": "execute_result"
    },
    {
     "data": {
      "image/png": "[encoded data removed]",
      "text/plain": [
       "<Figure size 432x288 with 1 Axes>"
      ]
     },
     "metadata": {
      "needs_background": "light"
     },
     "output_type": "display_data"
    }
   ],
   "source": [
    "lib_times = []\n",
    "my_times = []\n",
    "dimensions = [10, 100,1000]\n",
    "for dim in dimensions:\n",
    "    A = np.random.rand(dim, dim)\n",
    "    res_lib = %timeit -o sla.det(A)\n",
    "    lib_times.append(res_lib.best)\n",
    "    res_my = %timeit -o my_det(A)\n",
    "    my_times.append(res_my.best)    \n",
    "\n",
    "plt.plot(dimensions, lib_times, color='blue', label='Library function')\n",
    "plt.plot(dimensions, my_times, color='red', label='My function')\n",
    "plt.title('My function vs library function')\n",
    "plt.ylabel('Time')\n",
    "plt.xlabel('Matrix dimension')\n",
    "plt.legend()"
   ]
  },
  {
   "cell_type": "markdown",
   "metadata": {
    "id": "3snj6Ssyr-Dh",
    "pycharm": {
     "name": "#%% md\n"
    }
   },
   "source": [
    "У вас должны были получиться графики, показывающие, как растёт с ростом размерности матрицы время вычисления определителя. Поскольку они вышли не больно-то красивыми, мы нарисуем их в *логарифмическом масштабе* по оси у:"
   ]
  },
  {
   "cell_type": "code",
   "execution_count": 10,
   "metadata": {
    "id": "DvHEs5bpr-Di",
    "pycharm": {
     "name": "#%%\n"
    }
   },
   "outputs": [
    {
     "data": {
      "text/plain": [
       "<matplotlib.legend.Legend at 0x13b146063d0>"
      ]
     },
     "execution_count": 10,
     "metadata": {},
     "output_type": "execute_result"
    },
    {
     "data": {
      "image/png": "[encoded data removed]",
      "text/plain": [
       "<Figure size 432x288 with 1 Axes>"
      ]
     },
     "metadata": {
      "needs_background": "light"
     },
     "output_type": "display_data"
    }
   ],
   "source": [
    "plt.semilogy(dimensions, lib_times, color='blue', label='Library function')\n",
    "plt.semilogy(dimensions, my_times, color='red', label='My function')\n",
    "plt.title('My function vs library function, log y scale')\n",
    "plt.ylabel('Time')\n",
    "plt.xlabel('Matrix dimension')\n",
    "plt.legend()"
   ]
  },
  {
   "cell_type": "markdown",
   "metadata": {
    "id": "1hNKxIy_r-Di",
    "pycharm": {
     "name": "#%% md\n"
    }
   },
   "source": [
    "Вы можете убедиться, что библиотечная функция работает *гораздо* быстрее."
   ]
  },
  {
   "cell_type": "markdown",
   "metadata": {
    "id": "jpswHTx4r-Di",
    "pycharm": {
     "name": "#%% md\n"
    }
   },
   "source": [
    "## Часть 3. Точность\n",
    "\n",
    "Наверняка вы уже что-то знаете про floating point arithmetics и связанные с этим трудности и понимаете, что на компьютере вычисления с вещественными числами производятся лишь с ограниченной точностью. "
   ]
  },
  {
   "cell_type": "markdown",
   "metadata": {
    "id": "sbHBREf1r-Dj",
    "pycharm": {
     "name": "#%% md\n"
    }
   },
   "source": [
    "**Задание 3.1 [0.5 балла]** В качестве первого примера, показывающего различие между длинной арифметикой целых чисел и floating point arithmetics, предлагаем вам перемножить две пары матриц:\n",
    "\n",
    "$$\n",
    "\\begin{pmatrix}\n",
    "1 & 0\\\\\n",
    "10^{20} & 1\n",
    "\\end{pmatrix}\n",
    "\\cdot\n",
    "\\begin{pmatrix}\n",
    "10^{-20} & 1\\\\\n",
    "0 & 1 - 10^{20}\n",
    "\\end{pmatrix}\n",
    "$$\n",
    "и\n",
    "$$\n",
    "\\begin{pmatrix}\n",
    "1. & 0.\\\\\n",
    "10.^{20} & 1.\n",
    "\\end{pmatrix}\n",
    "\\cdot\n",
    "\\begin{pmatrix}\n",
    "10.^{-20} & 1.\\\\\n",
    "0. & 1. - 10.^{20}\n",
    "\\end{pmatrix}\n",
    "$$\n",
    "Во втором случае мы специально указали Питону (поставив везде десятичные точки), что хотим работать не с целыми числами, а с числами с плавающей точкой. Посмотрим, получатся ли одинаковые ответы:"
   ]
  },
  {
   "cell_type": "code",
   "execution_count": 11,
   "metadata": {
    "id": "DrPBRd5xr-Dj",
    "pycharm": {
     "name": "#%%\n"
    }
   },
   "outputs": [
    {
     "name": "stdout",
     "output_type": "stream",
     "text": [
      "[[1e-20 1]\n",
      " [1.0 1]]\n"
     ]
    }
   ],
   "source": [
    "a = np.array([[1, 0], [10 ** 20, 1]])\n",
    "b = np.array([[10 ** -20, 1], [0, 1 - 10 ** 20]])\n",
    "print(a @ b)"
   ]
  },
  {
   "cell_type": "code",
   "execution_count": 12,
   "metadata": {
    "pycharm": {
     "name": "#%%\n"
    }
   },
   "outputs": [
    {
     "name": "stdout",
     "output_type": "stream",
     "text": [
      "[[1.e-20 1.e+00]\n",
      " [1.e+00 0.e+00]]\n"
     ]
    }
   ],
   "source": [
    "c = np.array([[1., 0.], [10. ** 20, 1.]])\n",
    "d = np.array([[10. ** -20, 1.], [0., 1. - 10. ** 20]])\n",
    "print(c @ d)"
   ]
  },
  {
   "cell_type": "markdown",
   "metadata": {
    "id": "Pt3aLW1Or-Dk",
    "pycharm": {
     "name": "#%% md\n"
    }
   },
   "source": [
    "И какой из них правильный?\n",
    "\n",
    "---\n",
    "Как видно из ответов, второй результат содержит неопределённость 0^0, поэтому первый ответ правильный."
   ]
  },
  {
   "cell_type": "markdown",
   "metadata": {
    "id": "jiY-QrKPr-Dk",
    "pycharm": {
     "name": "#%% md\n"
    }
   },
   "source": [
    "**Задание 3.2 [0.75 балла]** Впрочем, и с целыми числами тоже не всегда всё хорошо. Напишите функцию, генерирующую *матрицу Паскаля* заданной размерности $n$, то есть матрицу $P$, в которой $P_{ij} = C_{i+j}^i$. В этом задании нельзя пользоваться библиотечной функцией `scipy.linalg.pascal` или её аналогами из других библиотек. Обратите внимание, что использование факториалов крайне нежелательно, так как быстро приведёт к переполнению.\n",
    "\n",
    "В этом задании вы можете использовать цикл ``for``."
   ]
  },
  {
   "cell_type": "code",
   "execution_count": 13,
   "metadata": {
    "id": "rDU_5JgZr-Dl",
    "pycharm": {
     "name": "#%%\n"
    }
   },
   "outputs": [],
   "source": [
    "from math import comb\n",
    "def my_pascal(dim):\n",
    "    a = np.zeros((dim, dim))         #Создадим \"пустую\" матрицу(все элементы нули)\n",
    "    for i in range(dim):\n",
    "        for j in range(dim):\n",
    "            a[i][j] = comb(j + i, i) #Элементу на ij месте будем присваивать значение С из i+j по i\n",
    "    return a"
   ]
  },
  {
   "cell_type": "markdown",
   "metadata": {
    "id": "PcK88FAmr-Dl",
    "pycharm": {
     "name": "#%% md\n"
    }
   },
   "source": [
    "Чему равен её определитель? Строго поясните свой ответ.\n",
    "\n",
    "----\n",
    "Воспользуемся таким алгоритмом: будем вычитать из i-ой строки i-1, начиная с конца(то есть из последней предпоследнюю,..., из второй первую;на следующем шаге сделаем тоже самое, но уже не будем вычитать первую из второй(то есть последнее действие - это из третьей вычтем вторую;думаю, что дальше идея ясна; когда мы дойдём до конца таких преобразований, мы получим нижнетреугольную матрицу, а как мы помним, её определитель равен произведению элементов на главной диагнали, а там у нас везде 1-> определитель равен 1."
   ]
  },
  {
   "cell_type": "markdown",
   "metadata": {
    "id": "9FtlxI5xr-Dl",
    "pycharm": {
     "name": "#%% md\n"
    }
   },
   "source": [
    "А теперь вычислите определитель матрицы Паскаля $30\\times30$ с помощью библиотечной функции `scipy.linalg.det`:"
   ]
  },
  {
   "cell_type": "code",
   "execution_count": 14,
   "metadata": {
    "id": "LF-9p43cr-Dm",
    "pycharm": {
     "name": "#%%\n"
    }
   },
   "outputs": [
    {
     "name": "stdout",
     "output_type": "stream",
     "text": [
      "7.223813481546793e+47\n"
     ]
    }
   ],
   "source": [
    "print(sla.det(my_pascal(30)))"
   ]
  },
  {
   "cell_type": "markdown",
   "metadata": {
    "id": "XkP5Lz39r-Dn",
    "pycharm": {
     "name": "#%% md\n"
    }
   },
   "source": [
    "Разница заметна невооружённым взглядом!"
   ]
  },
  {
   "cell_type": "markdown",
   "metadata": {
    "id": "o5FGEdeLRtyw",
    "pycharm": {
     "name": "#%% md\n"
    }
   },
   "source": [
    "Как вы помните из лекций, квадратная матрица называется вырожденной, если её определитель равен нулю. На практике часто приходится иметь дело с матрицами, \"близкими\" к вырожденным. Вырожденные и близкие к вырожденным матрицы обладают мерзким свойством численной неустойчивости. Что такое численная неустойчивость? Скажем, пусть мы решаем систему $Ax = b$, и пусть $\\dot x$ -- её частное решение. Теперь предположим, что правая часть системы немного испортилась (например, если правая часть -- это выход какого-то алгоритма, то тогда она может испортиться из-за неточных вычислений в этом алгоритме), и теперь мы решаем систему $Ax = b + \\Delta b$. Если элементы вектора $\\Delta b$ невелики по модулю, нам бы очень хотелось, чтобы и решение новой системы не сильно отличалось от решения исходной системы. Именно это мы и будем называть численной устойчивостью.\n",
    "\n",
    "**Задание 3.3 [0.15 балла]** Дана система\n",
    "$$\n",
    "\\begin{cases}\n",
    "x_1 + 1000x_2 = 2004\\\\\n",
    "100x_1 + 100001x_2 = 200402\n",
    "\\end{cases}\n",
    "$$\n",
    "Найдите решение этой системы (можно устно). Найдите определитель её матрицы коэффициентов."
   ]
  },
  {
   "cell_type": "code",
   "execution_count": 40,
   "metadata": {
    "id": "5gTOZfe8Z4u9",
    "pycharm": {
     "name": "#%%\n"
    }
   },
   "outputs": [
    {
     "name": "stdout",
     "output_type": "stream",
     "text": [
      "x1=4.0\n",
      "x2=2.0\n",
      "1\n"
     ]
    }
   ],
   "source": [
    "A1= np.array([[1, 1000], [100, 100001]])\n",
    "b1= np.array([2004, 200402])\n",
    "x = np.linalg.solve(A1, b1)      #Воспользуемся встроеной функцие по поиску решений\n",
    "[x1,x2] = x.tolist()             #Чтобы красиво вывести корни, преобразуем матрицу решений в список\n",
    "print(f'x1={x1}\\nx2={x2}')\n",
    "print(int(sla.det(A1)))                #Найдём определитель матрицы коэффициентов с помощью my_det"
   ]
  },
  {
   "cell_type": "markdown",
   "metadata": {
    "id": "EoBbwD-XZ5AD",
    "pycharm": {
     "name": "#%% md\n"
    }
   },
   "source": [
    "Теперь немного испортим правую часть этой системы, пусть теперь она имеет вид\n",
    "$$\n",
    "\\begin{cases}\n",
    "x_1 + 1000x_2 = 2004.01\\\\\n",
    "100x_1 + 100001x_2 = 200402\n",
    "\\end{cases}\n",
    "$$\n",
    "\n",
    "Найдите решение системы с испорченной правой частью. Сравните решения исходной и новой систем. Что вы можете сказать?"
   ]
  },
  {
   "cell_type": "code",
   "execution_count": 16,
   "metadata": {
    "id": "UeWfOQNmaXC0",
    "pycharm": {
     "name": "#%%\n"
    }
   },
   "outputs": [
    {
     "name": "stdout",
     "output_type": "stream",
     "text": [
      "x1=1004.01\n",
      "x2=1.0\n"
     ]
    }
   ],
   "source": [
    "A2=np.array([[1,1000],[100,100001]])    #Всё то же самое, как и в прошлом вводе\n",
    "b2=b=np.array([2004.01,200402])\n",
    "y = np.linalg.solve(A2, b2)\n",
    "[x1,x2] = y.tolist()\n",
    "print(f'x1={x1}\\nx2={x2}')"
   ]
  },
  {
   "cell_type": "markdown",
   "metadata": {
    "pycharm": {
     "name": "#%% md\n"
    }
   },
   "source": [
    "Как можно заметить, решения у систем (1) и (2) разные. А это значит, что наша система численно неустойчивая."
   ]
  },
  {
   "cell_type": "markdown",
   "metadata": {
    "id": "_ER7VPPFsr5f",
    "pycharm": {
     "name": "#%% md\n"
    }
   },
   "source": [
    "Оказывается, что значение определителя довольно плохо измеряет степень отклонения данной матрицы от вырожденной. Хорошей метрикой в этом плане является число обусловленности матрицы.\n",
    "\n",
    "**Определение**. Пусть $A$ -- квадратная матрица порядка $n$. Числом обусловленности матрицы $A$ назовём число $\\mathrm{cond}(A)$, определяемое по формуле\n",
    "$$\n",
    "\\mathrm{cond}(A) = \\sqrt{\\mathrm{tr}(A^TA)\\mathrm{tr}((A^{-1})^TA^{-1})}\n",
    "$$\n",
    "Если матрица вырожденна, то $\\mathrm{cond}(A)$ положим равным бесконечности.\n",
    "\n",
    "Как можно догадаться из определения, матрица тем ближе к вырожденной, чем больше её число обусловленности, ведь у вырожденной матрицы это число равно бесконечности!"
   ]
  },
  {
   "cell_type": "markdown",
   "metadata": {
    "id": "ginE-Q5VMoh9",
    "pycharm": {
     "name": "#%% md\n"
    }
   },
   "source": [
    "**Задание 3.4 [0.2 баллов]** Напишите функцию, которая для заданной матрицы $A$ возвращает её число обусловленности. Функция должна выкидывать `ValueError` в случаях, если матрица не является квадратной."
   ]
  },
  {
   "cell_type": "code",
   "execution_count": 17,
   "metadata": {
    "id": "DJjq1Y5eNOgP",
    "pycharm": {
     "name": "#%%\n"
    }
   },
   "outputs": [],
   "source": [
    "def my_cond(A):\n",
    "    [a, b] = A.shape           #Проверка на квадратность\n",
    "    if a != b:\n",
    "        raise ValueError\n",
    "    else:\n",
    "        if np.linalg.det(A) != 0:      #Если невырожденная, то считаем по формуле, в противном случае выводим бесконечность\n",
    "            A_1 = sla.inv(A)\n",
    "            return (np.trace(A.T @ A) * np.trace(A_1.T @ A_1)) ** 0.5\n",
    "        else:\n",
    "            return np.inf"
   ]
  },
  {
   "cell_type": "markdown",
   "metadata": {
    "id": "fCBQSE3COLhb",
    "pycharm": {
     "name": "#%% md\n"
    }
   },
   "source": [
    "Посчитайте число обусловленности матрицы из задания 3.3."
   ]
  },
  {
   "cell_type": "code",
   "execution_count": 18,
   "metadata": {
    "id": "IJY6GlkJOZH-",
    "pycharm": {
     "name": "#%%\n"
    }
   },
   "outputs": [
    {
     "name": "stdout",
     "output_type": "stream",
     "text": [
      "3756921844.554971\n"
     ]
    }
   ],
   "source": [
    "A1 = np.array([[1, 1000], [100, 100001]])\n",
    "print(my_cond(A1))"
   ]
  },
  {
   "cell_type": "markdown",
   "metadata": {
    "id": "ExnPX7hgOXUK",
    "pycharm": {
     "name": "#%% md\n"
    }
   },
   "source": [
    "Постройте график зависимости числа обусловленности матрицы Паскаля от размера $n \\in [5, 30]$."
   ]
  },
  {
   "cell_type": "code",
   "execution_count": 19,
   "metadata": {
    "id": "oRJA9WZfVMZa",
    "pycharm": {
     "name": "#%%\n"
    }
   },
   "outputs": [
    {
     "data": {
      "image/png": "[encoded data removed]",
      "text/plain": [
       "<Figure size 432x288 with 1 Axes>"
      ]
     },
     "metadata": {
      "needs_background": "light"
     },
     "output_type": "display_data"
    }
   ],
   "source": [
    "x_line = list(range(5, 31))                         #По OX у нас будут размеры матриц(от 5 до 30)\n",
    "y_line = list(map(my_cond, map(sla.pascal, x_line)))#По OY у нас будут их condы\n",
    "plt.plot(x_line, y_line)\n",
    "plt.title('The dependence of  the cond of the Pascal matrix on its size \\n')\n",
    "plt.ylabel('Cond')\n",
    "plt.xlabel('Matrix size')\n",
    "plt.show()"
   ]
  },
  {
   "cell_type": "markdown",
   "metadata": {
    "id": "NaIWOuZRf1JM",
    "pycharm": {
     "name": "#%% md\n"
    }
   },
   "source": [
    "Как видите, посчитанные выше числа обусловленности весьма велики, что вполне согласуется с численными эффектами, которые вы наблюдали ранее при работе с соответствующими матрицами."
   ]
  },
  {
   "cell_type": "markdown",
   "metadata": {
    "id": "P-Lw8ufLr-Dn",
    "pycharm": {
     "name": "#%% md\n"
    }
   },
   "source": [
    "## Часть 4. Матричные вычисления"
   ]
  },
  {
   "cell_type": "markdown",
   "metadata": {
    "id": "vhYgy7k_r-Do",
    "pycharm": {
     "name": "#%% md\n"
    }
   },
   "source": [
    "Вы уже видели, что использования циклов (и самописных вычислений в целом) в Питоне лучше по возможности избегать, и важно уметь находить способы делать всё библиотечными средствами.\n",
    "\n",
    "В качестве примера рассмотрим две задачи:\n",
    "\n",
    "**1.** Предположим, нужно вычислить суммы элементов в каждой строке матрицы `A`. Ясно, что можно написать простую функцию с двумя циклами, которая это посчитает, но так лучше не делать. Правильный способ такой:\n",
    "```\n",
    "A.sum(axis=1)\n",
    "```\n",
    "Параметр `axis=1` означает, что суммы берутся по строкам. Если вы хотите просуммировать по столбцам, укажите `axis=0`. Если вообще пропустить параметр `axis` (вызвать `A.sum()`), то функция вернёт сумму *всех* элементов матрицы.\n",
    "\n",
    "**2.** Теперь допустим, что нам нужно каждый столбец матрицы `A` умножить на некоторое число. Более точно, пусть у нас есть (одномерный) вектор `w = np.array([w_1,...,w_n])`, и мы должны `i`-й столбец `A` умножить на число `w_i`. Опять же, это можно сделать в пару циклов, но лучше использовать операцию поэлементного умножения:\n",
    "```\n",
    "A * w.reshape((1,n))\n",
    "```\n",
    "Оператор `reshape` нужен для того, чтобы из одномерного вектора сделать вектор-строку.\n",
    "\n",
    "Аналогично если на числа `w_1,...,w_n` умножаются *строки* матрицы, нужно превратить `w` в вектор-столбец:\n",
    "```\n",
    "A * w.reshape((n,1))\n",
    "```"
   ]
  },
  {
   "cell_type": "markdown",
   "metadata": {
    "id": "Hat1t__0r-Do",
    "pycharm": {
     "name": "#%% md\n"
    }
   },
   "source": [
    "Дальше вам будет предложено попрактиковаться в матричных вычислениях. В следующих трёх заданиях нельзя пользоваться циклами, а также конструкциями `map` и `reduce` и им подобными; вместо этого постарайтесь свести всё к матричным операциям из `numpy` (но, опять же, не `np.vectorize` или чему-то подобному). Чтобы убедиться, что получилось именно то, что нужно, пишите собственные тесты со случайными матрицами."
   ]
  },
  {
   "cell_type": "markdown",
   "metadata": {
    "id": "kMJB7H_Rr-Dp",
    "pycharm": {
     "name": "#%% md\n"
    }
   },
   "source": [
    "**Задание 4.1 [0.75 балла]** Напишите функцию `prod_and_sq_sum(A)`, вычисляющую произведение диагональных элементов, и сумму квадратов диагональных элементов квадратной матрицы `A`."
   ]
  },
  {
   "cell_type": "code",
   "execution_count": 20,
   "metadata": {
    "id": "_y-KXozGr-Dp",
    "pycharm": {
     "name": "#%%\n"
    }
   },
   "outputs": [],
   "source": [
    "def prod_and_sq_sum(A):\n",
    "    return A.diagonal().prod(), np.trace(np.square(A))"
   ]
  },
  {
   "cell_type": "code",
   "execution_count": 21,
   "metadata": {
    "pycharm": {
     "name": "#%%\n"
    }
   },
   "outputs": [
    {
     "name": "stdout",
     "output_type": "stream",
     "text": [
      "OK\n",
      "OK\n",
      "OK\n",
      "OK\n",
      "OK\n",
      "OK\n",
      "OK\n",
      "OK\n",
      "OK\n",
      "OK\n"
     ]
    }
   ],
   "source": [
    "def test1(A):\n",
    "    prod=1\n",
    "    sum=0\n",
    "    for i in range(len(A)):\n",
    "        prod*=A[i,i]\n",
    "        sum+=A[i,i]**2\n",
    "    return prod,sum\n",
    "\n",
    "#Проверим результаты фуункции и теста. Если они равны, то выведем ОК.\n",
    "quan=0\n",
    "for i in range(10):\n",
    "    Ar=np.random.rand(15,15)\n",
    "    (prod1,sq_sum1)=prod_and_sq_sum(Ar)\n",
    "    (prod2,sq_sum2)=test1(Ar)\n",
    "    if abs(prod1-prod2)<1e-6 and abs(sq_sum1-sq_sum2)<1e-6:\n",
    "        print('OK')"
   ]
  },
  {
   "cell_type": "markdown",
   "metadata": {
    "id": "BmTUHs8Ar-Dp",
    "pycharm": {
     "name": "#%% md\n"
    }
   },
   "source": [
    "**Задание 4.2 [0.75 балла]** Для матриц `A` и `B` размера $m\\times n$ обозначим через $a_1,\\ldots,a_n$ и $b_1,\\ldots,b_n$ соответственно их столбцы, $\\lambda_1, \\ldots, \\lambda_n$ --- некоторые числа. Напишите функцию `f(A, B, lmbd, k)`, вычисляющую\n",
    "\n",
    "$$\\sum_{i=1}^{\\min(k,n)}\\lambda_ia_ib_i^T$$"
   ]
  },
  {
   "cell_type": "code",
   "execution_count": 22,
   "metadata": {
    "id": "rXVb6AARr-Dq",
    "pycharm": {
     "name": "#%%\n"
    }
   },
   "outputs": [],
   "source": [
    "def f(A,B,lmbd,k):\n",
    "    #Если к больше количества столбцов, то сначала 𝜆𝑖 умножим на i-тый столбец, а дальше просто премножим то, что получилось на транспонированную матрицу\n",
    "    #Ведь , если рассмотреть поочерёдное перемножение столбца на строку, а потом их суммирование, то это тоже самое, что перемножение строк двух матриц.\n",
    "    #А т.к. матрицы перемножаются строка на столбец, то вторую матрицу надо транспонировать.\n",
    "    m = A.shape[0]\n",
    "    n = A.shape[1]\n",
    "    if k >= n:\n",
    "        new_A = A * lmbd.reshape((1, n))\n",
    "        return new_A@B.T\n",
    "    else: \n",
    "        new_A = A[:, :k] * lmbd[0][:k].reshape((1, k))\n",
    "        return new_A@B[:, :k].T"
   ]
  },
  {
   "cell_type": "code",
   "execution_count": 23,
   "metadata": {
    "pycharm": {
     "name": "#%%\n"
    }
   },
   "outputs": [
    {
     "name": "stdout",
     "output_type": "stream",
     "text": [
      "OK\n",
      "OK\n",
      "OK\n",
      "OK\n",
      "OK\n",
      "OK\n",
      "OK\n",
      "OK\n",
      "OK\n",
      "OK\n"
     ]
    }
   ],
   "source": [
    "import random                    #Решим это \"в лоб\"(просто находить каждое слагаемое суммы)\n",
    "def test2(A,B,lmbd,k):\n",
    "    m,n=A.shape\n",
    "    sum = np.zeros((m,m))\n",
    "    for i in range(min(n,k)): \n",
    "        new_b = np.array([[j[i] for j in B]])\n",
    "        new_a = np.array([[j[i]] for j in A])\n",
    "        sum += new_a@new_b* lmbd[0,i]\n",
    "    return sum\n",
    "\n",
    "for i in range(10):\n",
    "    n=random.randint(1,10)\n",
    "    m=random.randint(1,10)\n",
    "    Ae=np.random.rand(m,n)\n",
    "    Be=np.random.rand(m,n)\n",
    "    lmbd=np.random.rand(1,n)\n",
    "    k=random.randint(1,100)\n",
    "    if np.allclose(f(Ae,Be,lmbd,k),test2(Ae,Be,lmbd,k)):   #Т.к. результат суммы- это матрица, ты проверим их на равенство с помощью np.allclose\n",
    "        print('OK')"
   ]
  },
  {
   "cell_type": "markdown",
   "metadata": {
    "id": "RFlCOb_1r-Dq",
    "pycharm": {
     "name": "#%% md\n"
    }
   },
   "source": [
    "**Задание 4.3 [0.75 балла]** Напишите функцию `get_diag(A,B)`, принимающую две квадратных матрицы матрицы `A` и `B` одного размера и возвращающую вектор диагональных элементов произведения `AB`, не вычисляя произведение целиком. "
   ]
  },
  {
   "cell_type": "code",
   "execution_count": 24,
   "metadata": {
    "id": "UafXckVtr-Dr",
    "pycharm": {
     "name": "#%%\n"
    }
   },
   "outputs": [],
   "source": [
    "def get_diag(A,B):\n",
    "    #Элемент ii -это произведение i-той строки на i-тый столбец. Используем поэлементное перемножение. Тогда чтобы всё было ок, транспонируем В\n",
    "    return (A*B.T).sum(axis=1) #Чтобы получить диагональ произведения, осталось просуммировать строки."
   ]
  },
  {
   "cell_type": "code",
   "execution_count": 25,
   "metadata": {
    "pycharm": {
     "name": "#%%\n"
    }
   },
   "outputs": [
    {
     "name": "stdout",
     "output_type": "stream",
     "text": [
      "OK\n",
      "OK\n",
      "OK\n",
      "OK\n",
      "OK\n",
      "OK\n",
      "OK\n",
      "OK\n",
      "OK\n",
      "OK\n"
     ]
    }
   ],
   "source": [
    "def test3(A,B):\n",
    "    return (A@B).diagonal()    #Просто перемножим матрицы и вернём диагональ\n",
    "\n",
    "\n",
    "for i in range(10):\n",
    "    Aw=np.random.rand(8,8)\n",
    "    Bw=np.random.rand(8,8)\n",
    "    if np.allclose(get_diag(Aw,Bw),test3(Aw,Bw)): #Раз результатом функции является диагональ в np.array, то сравним их allclose\n",
    "        print('OK')"
   ]
  },
  {
   "cell_type": "markdown",
   "metadata": {
    "id": "6IMMmVtpr-Dr",
    "pycharm": {
     "name": "#%% md\n"
    }
   },
   "source": [
    "## Часть 5. Комплексные числа и геометрия"
   ]
  },
  {
   "cell_type": "markdown",
   "metadata": {
    "id": "M_R3OAUjr-Dr",
    "pycharm": {
     "name": "#%% md\n"
    }
   },
   "source": [
    "У вас уже была возможность убедиться, что многие операции над комплексными числами имеют наглядную геометрическую интерпретацию. В этом задании вам будет предложено этим воспользоваться.\n",
    "\n",
    "В Python число $i$ (мнимая единица) обозначено через `1j`. Так, число $0,5 + 1,2i$ будет иметь вид `0.5 + 1.2 * 1j`.\n",
    "\n",
    "При выполнении задания вы должны работать с точками плоскости как с комплексными числами. Любые преобразования должны быть реализованы с помощью операций над комплексными числами: сложения, вычитания, умножения, деления, возведения в степень и комплексного сопряжения.\n",
    "\n",
    "**Задание 5.1 [0.75 баллов]** Напишите функцию `shrink_rotate`, которая принимает на вход:\n",
    "- заданную в виде комплексного числа точку $X$, которую мы подвергаем преобразованию,\n",
    "- заданную в виде комплексного числа точку $A$, \n",
    "- действительный коэффициент `coef`,\n",
    "- угол `alpha`, заданный в радианах\n",
    "\n",
    "и осуществляет следующее преобразование: мы берём вектор $AX$, умножаем его `coef`, поворачиваем вокруг точки $A$ на угол `alpha` против часовой стрелки, после чего возвращаем конец полученного вектора. Ниже (левая картинка) мы приводим иллюстрацию действия этого преобразования:\n",
    "\n",
    "<img src=\"ShrinkRotate.png\">\n",
    "\n",
    "**Задание 5.2 [0.75 баллов]** Напишите функцию `shrink_rotate_conj`, которая сначала делает то же самое, что и `shrink_rotate`, а после этого отражает вектор $AY$ относительно горизонтальной прямой, проходящей через точку $A$, и возвращает точку $Y'$ (см. правую часть рисунка).\n",
    "\n",
    "**Задание 5.3 [0.75 баллов]** Напишите функцию `geometric_inverse`, которая принимает на вход:\n",
    "- заданную в виде комплексного числа точку $X$, которую мы подвергаем преобразованию,\n",
    "- заданную в виде комплексного числа точку $A$, \n",
    "- положительное действительное число $r$\n",
    "\n",
    "и осуществляет инверсию точки $X$ относительно окружности с центром $A$ радиуса $r$. [Определение инверсии вы можете посмотреть здесь](https://ru.wikipedia.org/wiki/%D0%98%D0%BD%D0%B2%D0%B5%D1%80%D1%81%D0%B8%D1%8F_(%D0%B3%D0%B5%D0%BE%D0%BC%D0%B5%D1%82%D1%80%D0%B8%D1%8F))."
   ]
  },
  {
   "cell_type": "code",
   "execution_count": 26,
   "metadata": {
    "id": "3NdSgR5gr-Ds",
    "pycharm": {
     "name": "#%%\n"
    }
   },
   "outputs": [],
   "source": [
    "def shrink_rotate(X, A, coef=1., angle=0.):\n",
    "    return (X-A)*coef*(np.cos(angle)+np.sin(angle)*1j)+A\n",
    "    \n",
    "def shrink_rotate_conj(X, A, coef=1., angle=0.):\n",
    "        return ((X-A)*coef*(np.cos(angle)+np.sin(angle)*1j)).conjugate()\n",
    "    \n",
    "def geometric_inverse(X, A, r):\n",
    "    return (r**2)*((X-A).conjugate()**(-1))+A"
   ]
  },
  {
   "cell_type": "markdown",
   "metadata": {
    "id": "NeashSv6r-Ds",
    "pycharm": {
     "name": "#%% md\n"
    }
   },
   "source": [
    "**Задание 5.4 [0.5 баллов]** Рассмотрим следующий процесс:\n",
    "\n",
    "```\n",
    "z = 0.5 + 0.*1j\n",
    "max_iter = 100000\n",
    "funcs = [\n",
    "    (lambda t: shrink_rotate(t, 0. + 1.*1j, coef=0.5, angle=0.)),\n",
    "    (lambda t: shrink_rotate(t, 1. + 0.*1j, coef=0.5, angle=0.)),\n",
    "    (lambda t: shrink_rotate(t, -1. + 0.*1j, coef=0.5, angle=0.))\n",
    "]\n",
    "\n",
    "for n_iter in range(max_iter):\n",
    "    n_func = np.random.choice(len(funcs))\n",
    "    z = funcs[n_func](z)\n",
    "```\n",
    "\n",
    "Запустите его и нарисуйте множество точек, получающихся на итерациях начиняя с десятой.\n",
    "\n",
    "*Указание*. Представьте квадрат $[-1,1]\\times[-1,1]$ матрицей пикселей 1000x1000. Сначала все элементы матрицы положим нулями, а на каждой итерации начиная с десятой будем присваивать единицу соответствующему пикселю этой матрицы. То, что получилось, можно нарисовать с помощью функции `plt.imshow(..., cmap='gray')`. Картинку лучше сделать побольше, предварив `imshow` вызовом `plt.figure(figsize=(20, 20))`."
   ]
  },
  {
   "cell_type": "code",
   "execution_count": 27,
   "metadata": {
    "id": "7Igcpac1r-Dt",
    "pycharm": {
     "name": "#%%\n"
    }
   },
   "outputs": [
    {
     "data": {
      "text/plain": [
       "<matplotlib.image.AxesImage at 0x13b149d1790>"
      ]
     },
     "execution_count": 27,
     "metadata": {},
     "output_type": "execute_result"
    },
    {
     "data": {
      "image/png": "[encoded data removed]",
      "text/plain": [
       "<Figure size 720x720 with 1 Axes>"
      ]
     },
     "metadata": {},
     "output_type": "display_data"
    }
   ],
   "source": [
    "z = 0.5 + 0.*1j\n",
    "max_iter = 100000\n",
    "funcs = [\n",
    "    (lambda t: shrink_rotate(t, 0. + 1.*1j, coef=0.5, angle=0.)),\n",
    "    (lambda t: shrink_rotate(t, 1. + 0.*1j, coef=0.5, angle=0.)),\n",
    "    (lambda t: shrink_rotate(t, -1. + 0.*1j, coef=0.5, angle=0.))\n",
    "]\n",
    "\n",
    "image=np.zeros((1000,1000))\n",
    "for n_iter in range(10,max_iter):\n",
    "    n_func = np.random.choice(len(funcs))\n",
    "    z = funcs[n_func](z)\n",
    "    image[int((z.imag+1)*500),int((z.real+1)*500)]=1\n",
    "plt.figure(figsize=(10,10))\n",
    "plt.xticks([])\n",
    "plt.yticks([])\n",
    "plt.imshow(image,cmap='gray')"
   ]
  },
  {
   "cell_type": "markdown",
   "metadata": {
    "id": "kB4gYvBlr-Dt",
    "pycharm": {
     "name": "#%% md\n"
    }
   },
   "source": [
    "**Задание 5.5 [0.75 баллов]** Попробуйте объяснить, почему получается именно эта фигура."
   ]
  },
  {
   "cell_type": "markdown",
   "metadata": {
    "id": "LQ5SZbJxr-Dt",
    "pycharm": {
     "name": "#%% md\n"
    }
   },
   "source": [
    "---\n",
    "Детальнее рассмотрим парметры функции shrink_rotate: мы берём вектор AX с координатами в зависимости от того, какой номер функции нам \"выпал\", укорачиваем его в двое(coef=0.5) и возвращаем его конец. Координаты, которые забиты в функции образуют треугольник. То есть, если выражаться простым языком, то мы просто рандомно выбираем куда поставить точку(конец нашего вектора). После 100000 итераций становится видно, что перед нами треугольник Серпинского. А вот объяснение, почему именно этот фрактал перед нами, у меня нет. Ведь это всё теория Хаоса и природа нахимичели.\n",
    "\n",
    "Ну а с 10 итерации мы начинаем рисовать точки потому, чтобы точки, которые возможно будут попадать чуть не туда не портили нашу картинку, ведь на долгосроке все они всё равно войдут во фрактал."
   ]
  },
  {
   "cell_type": "markdown",
   "metadata": {
    "id": "f1aCcERQr-Du",
    "pycharm": {
     "name": "#%% md\n"
    }
   },
   "source": [
    "**Задание 5.6 [0.5 баллов]** Поэкспериментируйте с другими преобразованиями. Попробуйте найти какой-нибудь другой красиво выглядящий фрактал."
   ]
  },
  {
   "cell_type": "code",
   "execution_count": 28,
   "metadata": {
    "id": "mVvGUziLr-Dv",
    "pycharm": {
     "name": "#%%\n"
    }
   },
   "outputs": [
    {
     "data": {
      "text/plain": [
       "<matplotlib.image.AxesImage at 0x13b14a0c940>"
      ]
     },
     "execution_count": 28,
     "metadata": {},
     "output_type": "execute_result"
    },
    {
     "data": {
      "image/png": "[encoded data removed]",
      "text/plain": [
       "<Figure size 720x720 with 1 Axes>"
      ]
     },
     "metadata": {},
     "output_type": "display_data"
    }
   ],
   "source": [
    "z = 0.5 + 0.*1j\n",
    "max_iter = 100000\n",
    "funcs = [\n",
    "    (lambda t: shrink_rotate_conj(t, 0. + 1.*1j, coef=0.5, angle=0.)),\n",
    "    (lambda t: shrink_rotate_conj(t, 1. + 0.*1j, coef=0.5, angle=0.)),\n",
    "    (lambda t: shrink_rotate_conj(t, -1. + 0.*1j, coef=0.5, angle=0.))\n",
    "]\n",
    "\n",
    "image=np.zeros((1000,1000))\n",
    "for n_iter in range(10,max_iter):\n",
    "    n_func = np.random.choice(len(funcs))\n",
    "    z = funcs[n_func](z)\n",
    "    image[int((z.imag+1)*500),int((z.real+1)*500)]=1\n",
    "plt.figure(figsize=(10,10))\n",
    "plt.xticks([])\n",
    "plt.yticks([])\n",
    "plt.imshow(image,cmap='gray')"
   ]
  },
  {
   "cell_type": "markdown",
   "metadata": {
    "id": "jjJJYMLcr-Dv",
    "pycharm": {
     "name": "#%% md\n"
    }
   },
   "source": [
    "## Часть 6 (бонус). Метод Гаусса или обратные матрицы?"
   ]
  },
  {
   "cell_type": "markdown",
   "metadata": {
    "id": "Pu8CLGhmr-Dw",
    "pycharm": {
     "name": "#%% md\n"
    }
   },
   "source": [
    "**Задание 6.1 [1.5 балла]** Пусть нам дано матричное уравнение $Ax = B$, где $A$ --- матрица размера $n\\times n$, а $B$ --- матрица размера $n\\times m$ (отметим, что это уравнение можно интерпретировать как $m$ систем с векторными правыми частями и однаковыми левыми). Вообще говоря, методов решения таких уравнений очень много, но мы пока рассмотрим два из них, с которыми вы уже хорошо знакомы.\n",
    "1. Метод Гаусса;\n",
    "2. Умножение на обратную матрицу: $x = A^{-1}B$.\n",
    "\n",
    "В этом задании вы попробуете ответить на вопрос о том, какой из этих методов эффективнее. Проведите два эксперимента:\n",
    "- сравните скорости решения системы при фиксированном `m = 10` и `n`, изменяющемся в пределах от 10 до 1000, например, для `n=10, 50, 100, 200, 500, 1000` (рост числа неизвестных при фиксированном количестве правых частей);\n",
    "- сравните скорости решения системы при фиксированном `n = 100` и `m`, меняющемся от 10 до 10000, например, для `m = 10, 100, 500, 1000, 2000, 5000, 10000` (рост числа правых частей при фиксированном числе неизвестных).\n",
    "\n",
    "При проведении экспериментов не возбраняется использовать циклы `for`.\n",
    "\n",
    "Эксперименты проведите на случайных матрицах, созданных с помощью функции `numpy.random.rand`. Постройте графики времени выполнения функции от размерности (лучше в логарифмическом масштабе). Сделайте выводы (в письменном виде!) о том, какой их методов оказывается лучше в каких обстоятельствах.\n",
    "\n",
    "Чтобы всё это не казалось вам чёрной магией, найдите число операций (суммарно сложения, умножения и деления), необходимых для решения системы каждым из методов. Обратите внимания на члены суммарной степени 3 (суммарной по $m$ и $n$; члены меньшего порядка можете даже не считать). Постарайтесь объяснить полученные ранее результаты."
   ]
  },
  {
   "cell_type": "code",
   "execution_count": 8,
   "metadata": {
    "id": "MxNqxkTbr-Dw",
    "pycharm": {
     "name": "#%%\n"
    }
   },
   "outputs": [
    {
     "name": "stdout",
     "output_type": "stream",
     "text": [
      "771 µs ± 152 µs per loop (mean ± std. dev. of 7 runs, 1000 loops each)\n",
      "158 µs ± 61.8 µs per loop (mean ± std. dev. of 7 runs, 10000 loops each)\n",
      "Number of operations of the Gauss method: 650\n",
      "Number of operations of the A^-1*b method: 2\n",
      "6.81 ms ± 192 µs per loop (mean ± std. dev. of 7 runs, 100 loops each)\n",
      "469 µs ± 5.29 µs per loop (mean ± std. dev. of 7 runs, 1000 loops each)\n",
      "Number of operations of the Gauss method: 66250\n",
      "Number of operations of the A^-1*b method: 2\n",
      "22.9 ms ± 508 µs per loop (mean ± std. dev. of 7 runs, 10 loops each)\n",
      "2.46 ms ± 61 µs per loop (mean ± std. dev. of 7 runs, 100 loops each)\n",
      "Number of operations of the Gauss method: 515000\n",
      "Number of operations of the A^-1*b method: 2\n",
      "81.8 ms ± 1.37 ms per loop (mean ± std. dev. of 7 runs, 10 loops each)\n",
      "11.4 ms ± 254 µs per loop (mean ± std. dev. of 7 runs, 100 loops each)\n",
      "Number of operations of the Gauss method: 4060000\n",
      "Number of operations of the A^-1*b method: 2\n"
     ]
    },
    {
     "data": {
      "text/plain": [
       "<matplotlib.legend.Legend at 0x21ab504b0a0>"
      ]
     },
     "execution_count": 8,
     "metadata": {},
     "output_type": "execute_result"
    },
    {
     "data": {
      "image/png": "[encoded data removed]",
      "text/plain": [
       "<Figure size 432x288 with 1 Axes>"
      ]
     },
     "metadata": {
      "needs_background": "light"
     },
     "output_type": "display_data"
    }
   ],
   "source": [
    "import scipy.linalg as sla\n",
    "import matplotlib.pyplot as plt\n",
    "def Gauss(a, b):\n",
    "    count = 0\n",
    "    n = len(a)\n",
    "    for k in range(n):\n",
    "        if np.fabs(a[k, k]) < 10 ** -12:\n",
    "            for i in range(k + 1, n):\n",
    "                if np.fabs(a[i, k]) > a[k, k]:\n",
    "                    for j in range(k, n):\n",
    "                        a[k, j], a[i, j] = a[i, j], a[k, j]\n",
    "                        count += 1\n",
    "                    b[k], b[i] = b[i], b[k]\n",
    "                    count += 1\n",
    "                    break\n",
    "        pivot = a[k, k]\n",
    "        for j in range(k, n):\n",
    "            a[k, j] /= pivot\n",
    "            count += 1\n",
    "        b[k] /= pivot\n",
    "        count += 1\n",
    "        for i in range(n):\n",
    "            if i == k or a[i, k] == 0: continue\n",
    "            factor = a[i, k]\n",
    "            for j in range(k, n):\n",
    "                a[i, j] -= factor * a[k, j]\n",
    "                count += 1\n",
    "            b[i] -= factor * b[k]\n",
    "            count += 1\n",
    "    return b, count\n",
    "\n",
    "\n",
    "def mul_inv(a, b):\n",
    "    count = 0\n",
    "    a_reverse = sla.inv(a)\n",
    "    count += 1\n",
    "    return a_reverse @ b, count + 1\n",
    "\n",
    "\n",
    "Gauss_times1 = []\n",
    "Reverse_times1 = []\n",
    "dimensions1 = [10, 50, 100, 200, 500, 1000]\n",
    "m = 10\n",
    "for dim in dimensions1:\n",
    "    A = np.random.rand(dim, dim)\n",
    "    b = np.random.rand(dim, m)\n",
    "    (X1,count1)=Gauss(A,b)\n",
    "    (X2,count2)=mul_inv(A,b)\n",
    "    res_Gauss1 = %timeit -o Gauss(A, b)\n",
    "    Gauss_times1.append(res_Gauss1.best)\n",
    "    res_Reverse1 = %timeit -o mul_inv(A, b)\n",
    "    Reverse_times1.append(res_Reverse1.best)\n",
    "    print(f'Number of operations of the Gauss method: {count1}\\nNumber of operations of the A^-1*b method: {count2}')\n",
    "\n",
    "plt.semilogy(dimensions1, Gauss_times1, color='blue', label='Gauss method')\n",
    "plt.semilogy(dimensions1, Reverse_times1, color='red', label='A^-1*b')\n",
    "plt.title('Gauss method vs A^-1*b method')\n",
    "plt.ylabel('Time')\n",
    "plt.xlabel('The increase in the number of unknowns with a fixed number of right-hand sides')\n",
    "plt.legend()"
   ]
  },
  {
   "cell_type": "code",
   "execution_count": 9,
   "metadata": {
    "pycharm": {
     "name": "#%%\n"
    }
   },
   "outputs": [
    {
     "name": "stdout",
     "output_type": "stream",
     "text": [
      "22.9 ms ± 942 µs per loop (mean ± std. dev. of 7 runs, 10 loops each)\n",
      "2.57 ms ± 213 µs per loop (mean ± std. dev. of 7 runs, 100 loops each)\n",
      "Number of operations of the Gauss method: 515000\n",
      "Number of operations of the A^-1*b method: 2\n",
      "24 ms ± 867 µs per loop (mean ± std. dev. of 7 runs, 10 loops each)\n",
      "3.63 ms ± 608 µs per loop (mean ± std. dev. of 7 runs, 100 loops each)\n",
      "Number of operations of the Gauss method: 515000\n",
      "Number of operations of the A^-1*b method: 2\n",
      "32.3 ms ± 9.03 ms per loop (mean ± std. dev. of 7 runs, 10 loops each)\n",
      "8.1 ms ± 1.42 ms per loop (mean ± std. dev. of 7 runs, 100 loops each)\n",
      "Number of operations of the Gauss method: 515000\n",
      "Number of operations of the A^-1*b method: 2\n",
      "25.1 ms ± 784 µs per loop (mean ± std. dev. of 7 runs, 10 loops each)\n",
      "9.16 ms ± 666 µs per loop (mean ± std. dev. of 7 runs, 100 loops each)\n",
      "Number of operations of the Gauss method: 515000\n",
      "Number of operations of the A^-1*b method: 2\n"
     ]
    },
    {
     "data": {
      "text/plain": [
       "<matplotlib.legend.Legend at 0x21aaff87640>"
      ]
     },
     "execution_count": 9,
     "metadata": {},
     "output_type": "execute_result"
    },
    {
     "data": {
      "image/png": "[encoded data removed]",
      "text/plain": [
       "<Figure size 432x288 with 1 Axes>"
      ]
     },
     "metadata": {
      "needs_background": "light"
     },
     "output_type": "display_data"
    }
   ],
   "source": [
    "Gauss_times2 = []\n",
    "Reverse_times2 = []\n",
    "dimensions2 = [10, 100, 500, 1000, 2000, 5000, 10000]\n",
    "n = 100\n",
    "for dim in dimensions2:\n",
    "    A = np.random.rand(n,n)\n",
    "    b = np.random.rand(n,dim)\n",
    "    (X1,count1)=Gauss(A,b)\n",
    "    (X2,count2)=mul_inv(A,b)\n",
    "    res_Gauss2 = %timeit -o Gauss(A, b)\n",
    "    Gauss_times2.append(res_Gauss2.best)\n",
    "    res_Reverse2 = %timeit -o mul_inv(A, b)\n",
    "    Reverse_times2.append(res_Reverse2.best)\n",
    "    print(f'Number of operations of the Gauss method: {count1}\\nNumber of operations of the A^-1*b method: {count2}')\n",
    "\n",
    "plt.semilogy(dimensions2, Gauss_times2, color='blue', label='Gauss method')\n",
    "plt.semilogy(dimensions2, Reverse_times2, color='red', label='A^-1*b')\n",
    "plt.title('Gauss method vs A^-1*b method')\n",
    "plt.ylabel('Time')\n",
    "plt.xlabel('The increase in the number of right-hand sides with a fixed number of unknowns')\n",
    "plt.legend()"
   ]
  },
  {
   "cell_type": "markdown",
   "metadata": {
    "pycharm": {
     "name": "#%% md\n"
    }
   },
   "source": [
    "Графики посторены лишь для для первых 4 размеров из-за нехватки времени и работоспособности моего ноутбука:("
   ]
  }
 ],
 "metadata": {
  "colab": {
   "collapsed_sections": [
    "YaJV1GVyr-DE",
    "Dq9CP3Tvr-Dc",
    "jjJJYMLcr-Dv"
   ],
   "name": "Копия блокнота \"HSE Linalg Lab Fall 2021.ipynb\"",
   "provenance": []
  },
  "kernelspec": {
   "display_name": "Python 3 (ipykernel)",
   "language": "python",
   "name": "python3"
  },
  "language_info": {
   "codemirror_mode": {
    "name": "ipython",
    "version": 3
   },
   "file_extension": ".py",
   "mimetype": "text/x-python",
   "name": "python",
   "nbconvert_exporter": "python",
   "pygments_lexer": "ipython3",
   "version": "3.9.12"
  }
 },
 "nbformat": 4,
 "nbformat_minor": 1
}